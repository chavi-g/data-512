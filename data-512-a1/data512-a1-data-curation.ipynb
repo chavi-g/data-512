{
 "cells": [
  {
   "cell_type": "markdown",
   "metadata": {},
   "source": [
    "# Data Curation  \n",
    "\n",
    "This notebook walks through all the steps for the analysis from gathering the data, processing the data and finally performing analysis by creating a visualization."
   ]
  },
  {
   "cell_type": "markdown",
   "metadata": {},
   "source": [
    "## Step 1: Gathering the Data  \n",
    "\n",
    "The pagecounts and pageviews data are collected from their respective APIs and stored in 5 different json files depending on the different access types."
   ]
  },
  {
   "cell_type": "markdown",
   "metadata": {},
   "source": [
    "#### Importing required libraries..."
   ]
  },
  {
   "cell_type": "code",
   "execution_count": 7,
   "metadata": {},
   "outputs": [],
   "source": [
    "import os\n",
    "import shutil\n",
    "import pandas as pd\n",
    "import numpy as np\n",
    "import functools\n",
    "import datetime\n",
    "\n",
    "import json\n",
    "import requests\n",
    "\n",
    "%matplotlib inline\n",
    "import matplotlib.pyplot as plt"
   ]
  },
  {
   "cell_type": "markdown",
   "metadata": {},
   "source": [
    "#### REST API endpoints:\n",
    "* [Legacy Pagecounts API](https://wikimedia.org/api/rest_v1/#/Legacy%20data)\n",
    "* [Pageviews API](https://wikimedia.org/api/rest_v1/#/Pageviews%20data)                    "
   ]
  },
  {
   "cell_type": "code",
   "execution_count": 8,
   "metadata": {},
   "outputs": [],
   "source": [
    "endpoint_legacy = 'https://wikimedia.org/api/rest_v1/metrics/legacy/pagecounts/aggregate/{project}/{access-site}/{granularity}/{start}/{end}'\n",
    "\n",
    "endpoint_pageviews = 'https://wikimedia.org/api/rest_v1/metrics/pageviews/aggregate/{project}/{access}/{agent}/{granularity}/{start}/{end}'"
   ]
  },
  {
   "cell_type": "markdown",
   "metadata": {},
   "source": [
    "#### Creating directory structure for the data"
   ]
  },
  {
   "cell_type": "code",
   "execution_count": 9,
   "metadata": {},
   "outputs": [],
   "source": [
    "json_output_folder = \"data/json\"\n",
    "csv_output_folder = \"data/csv\"\n",
    "if os.path.exists(\"data\"):\n",
    "    shutil.rmtree(\"data\")\n",
    "os.mkdir(\"data\")\n",
    "os.mkdir(json_output_folder)\n",
    "os.mkdir(csv_output_folder)"
   ]
  },
  {
   "cell_type": "markdown",
   "metadata": {},
   "source": [
    "#### Creating the header for calling the APIs"
   ]
  },
  {
   "cell_type": "code",
   "execution_count": 10,
   "metadata": {},
   "outputs": [],
   "source": [
    "headers = {\n",
    "    'User-Agent': 'https://github.com/chavi-g',\n",
    "    'From': 'chavig@uw.edu'\n",
    "}"
   ]
  },
  {
   "cell_type": "markdown",
   "metadata": {},
   "source": [
    "#### Creating functions to create the parameters for the APIs."
   ]
  },
  {
   "cell_type": "code",
   "execution_count": 11,
   "metadata": {},
   "outputs": [],
   "source": [
    "def get_pagecount_params(access_site, start, end):\n",
    "    params = {\n",
    "                \"project\" : \"en.wikipedia.org\",\n",
    "                \"access-site\" : access_site,\n",
    "                \"granularity\" : \"monthly\",\n",
    "                \"start\" : start,\n",
    "                \"end\" : end\n",
    "           }\n",
    "    return params"
   ]
  },
  {
   "cell_type": "code",
   "execution_count": 12,
   "metadata": {},
   "outputs": [],
   "source": [
    "def get_pageview_params(access, start, end):\n",
    "    params = {\n",
    "                \"project\" : \"en.wikipedia.org\",\n",
    "                \"access\" : access,\n",
    "                \"agent\" : \"user\",\n",
    "                \"granularity\" : \"monthly\",\n",
    "                \"start\" : start,\n",
    "                \"end\" : end\n",
    "           }\n",
    "    return params"
   ]
  },
  {
   "cell_type": "markdown",
   "metadata": {},
   "source": [
    "#### Utility functions to call the rest APIs and store the data in files"
   ]
  },
  {
   "cell_type": "code",
   "execution_count": 13,
   "metadata": {},
   "outputs": [],
   "source": [
    "def api_call(endpoint,parameters):\n",
    "    call = requests.get(endpoint.format(**parameters), headers=headers)\n",
    "    response = call.json()\n",
    "    \n",
    "    return response"
   ]
  },
  {
   "cell_type": "code",
   "execution_count": 14,
   "metadata": {},
   "outputs": [],
   "source": [
    "def get_json_file_path(apiname, accesstype, firstmonth, lastmonth):\n",
    "    filename = \"{0}_{1}_{2}-{3}.json\".format(apiname, accesstype, firstmonth, lastmonth)\n",
    "    return os.path.join(json_output_folder, filename)"
   ]
  },
  {
   "cell_type": "code",
   "execution_count": 15,
   "metadata": {},
   "outputs": [],
   "source": [
    "def write_data_to_json(data, filename):\n",
    "    data_string = json.dumps(data, indent=2)\n",
    "    with open(filename, \"w\") as f:\n",
    "        f.write(data_string)"
   ]
  },
  {
   "cell_type": "code",
   "execution_count": 16,
   "metadata": {},
   "outputs": [],
   "source": [
    "def get_pageviews_data(access, start, end):\n",
    "    pageview_data = api_call(endpoint_pageviews, get_pageview_params(access, start, end))\n",
    "    firstmonth = start[:6]\n",
    "    endmonth = end[:6]\n",
    "    filename = get_json_file_path('pageviews', access, firstmonth, endmonth)\n",
    "    write_data_to_json(pageview_data, filename)\n",
    "    \n",
    "    return filename"
   ]
  },
  {
   "cell_type": "code",
   "execution_count": 17,
   "metadata": {},
   "outputs": [],
   "source": [
    "def get_pagecounts_data(access_site, start, end):\n",
    "    pagecount_data = api_call(endpoint_legacy, get_pagecount_params(access_site, start, end))\n",
    "    firstmonth = start[:6]\n",
    "    endmonth = end[:6]\n",
    "    filename = get_json_file_path('pagecounts', access_site, firstmonth, endmonth)\n",
    "    write_data_to_json(pagecount_data, filename)\n",
    "    \n",
    "    return filename"
   ]
  },
  {
   "cell_type": "markdown",
   "metadata": {},
   "source": [
    "#### Creating json files for Pageviews API"
   ]
  },
  {
   "cell_type": "code",
   "execution_count": 18,
   "metadata": {},
   "outputs": [],
   "source": [
    "start, end = \"2015070100\", \"2020090100\"\n",
    "pageview_desktop_file = get_pageviews_data(\"desktop\", start, end)\n",
    "pageview_mobile_app_file = get_pageviews_data(\"mobile-app\", start, end)\n",
    "pageview_mobile_web_file = get_pageviews_data(\"mobile-web\", start, end)"
   ]
  },
  {
   "cell_type": "markdown",
   "metadata": {},
   "source": [
    "#### Creating json files for Legacy Pagecounts API"
   ]
  },
  {
   "cell_type": "code",
   "execution_count": 19,
   "metadata": {},
   "outputs": [],
   "source": [
    "start, end = \"2007120100\", \"2016070100\"\n",
    "pagecount_desktop_file = get_pagecounts_data(\"desktop-site\", start, end)\n",
    "pagecount_mobile_file = get_pagecounts_data(\"mobile-site\", start, end)"
   ]
  },
  {
   "cell_type": "markdown",
   "metadata": {},
   "source": [
    "## Step 2: Processing the Data"
   ]
  },
  {
   "cell_type": "markdown",
   "metadata": {},
   "source": [
    "The pageview and pagecount data is processed to get counts for `mobile`, `desktop` and `all` access types.  \n",
    "For doing this, the data for different access types are combined on the year and month values and added. For missing year data, the count is assumed to be 0 and thus not added."
   ]
  },
  {
   "cell_type": "code",
   "execution_count": 20,
   "metadata": {},
   "outputs": [],
   "source": [
    "def read_data_from_json(filename):\n",
    "    data = {}\n",
    "    with open(filename, \"r\") as f:\n",
    "        data = json.loads(f.read())\n",
    "    \n",
    "    return data"
   ]
  },
  {
   "cell_type": "code",
   "execution_count": 21,
   "metadata": {},
   "outputs": [],
   "source": [
    "pageview_desktop_data = read_data_from_json(pageview_desktop_file)\n",
    "pageview_mobile_app_data = read_data_from_json(pageview_mobile_app_file)\n",
    "pageview_mobile_web_data = read_data_from_json(pageview_mobile_web_file)\n",
    "pagecount_desktop_data = read_data_from_json(pagecount_desktop_file)\n",
    "pagecount_mobile_data = read_data_from_json(pagecount_mobile_file)"
   ]
  },
  {
   "cell_type": "markdown",
   "metadata": {},
   "source": [
    "#### Preparing Pageview fields \n",
    "The following code aggregates the pageview counts to create the following output fields: `pageview_desktop_views`, `pageview_mobile_views`, `pageview_all_views`"
   ]
  },
  {
   "cell_type": "code",
   "execution_count": 22,
   "metadata": {},
   "outputs": [],
   "source": [
    "pageview_desktop_views = pd.DataFrame(pageview_desktop_data['items'])\n",
    "pageview_desktop_views['year'] = pageview_desktop_views.apply(lambda row: row['timestamp'][:4], axis = 1)\n",
    "pageview_desktop_views['month'] = pageview_desktop_views.apply(lambda row: row['timestamp'][4:6], axis = 1)"
   ]
  },
  {
   "cell_type": "code",
   "execution_count": 23,
   "metadata": {},
   "outputs": [],
   "source": [
    "pageview_desktop_views = pageview_desktop_views[['year', 'month', 'views']]"
   ]
  },
  {
   "cell_type": "code",
   "execution_count": 24,
   "metadata": {},
   "outputs": [
    {
     "data": {
      "text/html": [
       "<div>\n",
       "<style scoped>\n",
       "    .dataframe tbody tr th:only-of-type {\n",
       "        vertical-align: middle;\n",
       "    }\n",
       "\n",
       "    .dataframe tbody tr th {\n",
       "        vertical-align: top;\n",
       "    }\n",
       "\n",
       "    .dataframe thead th {\n",
       "        text-align: right;\n",
       "    }\n",
       "</style>\n",
       "<table border=\"1\" class=\"dataframe\">\n",
       "  <thead>\n",
       "    <tr style=\"text-align: right;\">\n",
       "      <th></th>\n",
       "      <th>year</th>\n",
       "      <th>month</th>\n",
       "      <th>views</th>\n",
       "    </tr>\n",
       "  </thead>\n",
       "  <tbody>\n",
       "    <tr>\n",
       "      <th>0</th>\n",
       "      <td>2015</td>\n",
       "      <td>07</td>\n",
       "      <td>4376666686</td>\n",
       "    </tr>\n",
       "    <tr>\n",
       "      <th>1</th>\n",
       "      <td>2015</td>\n",
       "      <td>08</td>\n",
       "      <td>4332482183</td>\n",
       "    </tr>\n",
       "    <tr>\n",
       "      <th>2</th>\n",
       "      <td>2015</td>\n",
       "      <td>09</td>\n",
       "      <td>4485491704</td>\n",
       "    </tr>\n",
       "    <tr>\n",
       "      <th>3</th>\n",
       "      <td>2015</td>\n",
       "      <td>10</td>\n",
       "      <td>4477532755</td>\n",
       "    </tr>\n",
       "    <tr>\n",
       "      <th>4</th>\n",
       "      <td>2015</td>\n",
       "      <td>11</td>\n",
       "      <td>4287720220</td>\n",
       "    </tr>\n",
       "  </tbody>\n",
       "</table>\n",
       "</div>"
      ],
      "text/plain": [
       "   year month       views\n",
       "0  2015    07  4376666686\n",
       "1  2015    08  4332482183\n",
       "2  2015    09  4485491704\n",
       "3  2015    10  4477532755\n",
       "4  2015    11  4287720220"
      ]
     },
     "execution_count": 24,
     "metadata": {},
     "output_type": "execute_result"
    }
   ],
   "source": [
    "pageview_desktop_views.head()"
   ]
  },
  {
   "cell_type": "code",
   "execution_count": 25,
   "metadata": {},
   "outputs": [],
   "source": [
    "pageview_mobile_app_views = pd.DataFrame(pageview_mobile_app_data['items'])\n",
    "pageview_mobile_app_views['year'] = pageview_mobile_app_views.apply(lambda row: row['timestamp'][:4], axis = 1)\n",
    "pageview_mobile_app_views['month'] = pageview_mobile_app_views.apply(lambda row: row['timestamp'][4:6], axis = 1)"
   ]
  },
  {
   "cell_type": "code",
   "execution_count": 26,
   "metadata": {},
   "outputs": [],
   "source": [
    "pageview_mobile_app_views = pageview_mobile_app_views[['year', 'month', 'views']]"
   ]
  },
  {
   "cell_type": "code",
   "execution_count": 27,
   "metadata": {},
   "outputs": [],
   "source": [
    "pageview_mobile_web_views = pd.DataFrame(pageview_mobile_web_data['items'])\n",
    "pageview_mobile_web_views['year'] = pageview_mobile_web_views.apply(lambda row: row['timestamp'][:4], axis = 1)\n",
    "pageview_mobile_web_views['month'] = pageview_mobile_web_views.apply(lambda row: row['timestamp'][4:6], axis = 1)"
   ]
  },
  {
   "cell_type": "code",
   "execution_count": 28,
   "metadata": {},
   "outputs": [],
   "source": [
    "pageview_mobile_web_views = pageview_mobile_web_views[['year', 'month', 'views']]"
   ]
  },
  {
   "cell_type": "code",
   "execution_count": 29,
   "metadata": {},
   "outputs": [],
   "source": [
    "merged_pageview_mobile_views = pd.concat([pageview_mobile_app_views,pageview_mobile_web_views])"
   ]
  },
  {
   "cell_type": "code",
   "execution_count": 30,
   "metadata": {},
   "outputs": [],
   "source": [
    "pageview_mobile_views = merged_pageview_mobile_views.groupby(['year', 'month']).agg({\"views\":['sum']}).reset_index()\n",
    "pageview_mobile_views.columns = ['year', 'month', 'views']"
   ]
  },
  {
   "cell_type": "code",
   "execution_count": 31,
   "metadata": {},
   "outputs": [
    {
     "data": {
      "text/html": [
       "<div>\n",
       "<style scoped>\n",
       "    .dataframe tbody tr th:only-of-type {\n",
       "        vertical-align: middle;\n",
       "    }\n",
       "\n",
       "    .dataframe tbody tr th {\n",
       "        vertical-align: top;\n",
       "    }\n",
       "\n",
       "    .dataframe thead th {\n",
       "        text-align: right;\n",
       "    }\n",
       "</style>\n",
       "<table border=\"1\" class=\"dataframe\">\n",
       "  <thead>\n",
       "    <tr style=\"text-align: right;\">\n",
       "      <th></th>\n",
       "      <th>year</th>\n",
       "      <th>month</th>\n",
       "      <th>views</th>\n",
       "    </tr>\n",
       "  </thead>\n",
       "  <tbody>\n",
       "    <tr>\n",
       "      <th>0</th>\n",
       "      <td>2015</td>\n",
       "      <td>07</td>\n",
       "      <td>3288755294</td>\n",
       "    </tr>\n",
       "    <tr>\n",
       "      <th>1</th>\n",
       "      <td>2015</td>\n",
       "      <td>08</td>\n",
       "      <td>3302333038</td>\n",
       "    </tr>\n",
       "    <tr>\n",
       "      <th>2</th>\n",
       "      <td>2015</td>\n",
       "      <td>09</td>\n",
       "      <td>3170203333</td>\n",
       "    </tr>\n",
       "    <tr>\n",
       "      <th>3</th>\n",
       "      <td>2015</td>\n",
       "      <td>10</td>\n",
       "      <td>3268499132</td>\n",
       "    </tr>\n",
       "    <tr>\n",
       "      <th>4</th>\n",
       "      <td>2015</td>\n",
       "      <td>11</td>\n",
       "      <td>3236601070</td>\n",
       "    </tr>\n",
       "  </tbody>\n",
       "</table>\n",
       "</div>"
      ],
      "text/plain": [
       "   year month       views\n",
       "0  2015    07  3288755294\n",
       "1  2015    08  3302333038\n",
       "2  2015    09  3170203333\n",
       "3  2015    10  3268499132\n",
       "4  2015    11  3236601070"
      ]
     },
     "execution_count": 31,
     "metadata": {},
     "output_type": "execute_result"
    }
   ],
   "source": [
    "pageview_mobile_views.head()"
   ]
  },
  {
   "cell_type": "code",
   "execution_count": 32,
   "metadata": {},
   "outputs": [],
   "source": [
    "merged_pageview_all_views = pd.concat([pageview_desktop_views, pageview_mobile_views])"
   ]
  },
  {
   "cell_type": "code",
   "execution_count": 33,
   "metadata": {},
   "outputs": [],
   "source": [
    "pageview_all_views = merged_pageview_all_views.groupby(['year', 'month']).agg({\"views\": ['sum']}).reset_index()\n",
    "pageview_all_views.columns = ['year', 'month', 'views']"
   ]
  },
  {
   "cell_type": "code",
   "execution_count": 34,
   "metadata": {},
   "outputs": [
    {
     "data": {
      "text/html": [
       "<div>\n",
       "<style scoped>\n",
       "    .dataframe tbody tr th:only-of-type {\n",
       "        vertical-align: middle;\n",
       "    }\n",
       "\n",
       "    .dataframe tbody tr th {\n",
       "        vertical-align: top;\n",
       "    }\n",
       "\n",
       "    .dataframe thead th {\n",
       "        text-align: right;\n",
       "    }\n",
       "</style>\n",
       "<table border=\"1\" class=\"dataframe\">\n",
       "  <thead>\n",
       "    <tr style=\"text-align: right;\">\n",
       "      <th></th>\n",
       "      <th>year</th>\n",
       "      <th>month</th>\n",
       "      <th>views</th>\n",
       "    </tr>\n",
       "  </thead>\n",
       "  <tbody>\n",
       "    <tr>\n",
       "      <th>0</th>\n",
       "      <td>2015</td>\n",
       "      <td>07</td>\n",
       "      <td>7665421980</td>\n",
       "    </tr>\n",
       "    <tr>\n",
       "      <th>1</th>\n",
       "      <td>2015</td>\n",
       "      <td>08</td>\n",
       "      <td>7634815221</td>\n",
       "    </tr>\n",
       "    <tr>\n",
       "      <th>2</th>\n",
       "      <td>2015</td>\n",
       "      <td>09</td>\n",
       "      <td>7655695037</td>\n",
       "    </tr>\n",
       "    <tr>\n",
       "      <th>3</th>\n",
       "      <td>2015</td>\n",
       "      <td>10</td>\n",
       "      <td>7746031887</td>\n",
       "    </tr>\n",
       "    <tr>\n",
       "      <th>4</th>\n",
       "      <td>2015</td>\n",
       "      <td>11</td>\n",
       "      <td>7524321290</td>\n",
       "    </tr>\n",
       "  </tbody>\n",
       "</table>\n",
       "</div>"
      ],
      "text/plain": [
       "   year month       views\n",
       "0  2015    07  7665421980\n",
       "1  2015    08  7634815221\n",
       "2  2015    09  7655695037\n",
       "3  2015    10  7746031887\n",
       "4  2015    11  7524321290"
      ]
     },
     "execution_count": 34,
     "metadata": {},
     "output_type": "execute_result"
    }
   ],
   "source": [
    "pageview_all_views.head()"
   ]
  },
  {
   "cell_type": "markdown",
   "metadata": {},
   "source": [
    "#### Preparing Pagecount fields \n",
    "The following code aggregates the pagecounts to create the following output fields: `pagecount_desktop_views`, `pagecount_mobile_views`, `pagecount_all_views`"
   ]
  },
  {
   "cell_type": "code",
   "execution_count": 35,
   "metadata": {},
   "outputs": [],
   "source": [
    "pagecount_desktop_views = pd.DataFrame(pagecount_desktop_data['items'])\n",
    "pagecount_desktop_views['year'] = pagecount_desktop_views.apply(lambda row: row['timestamp'][:4], axis = 1)\n",
    "pagecount_desktop_views['month'] = pagecount_desktop_views.apply(lambda row: row['timestamp'][4:6], axis = 1)"
   ]
  },
  {
   "cell_type": "code",
   "execution_count": 36,
   "metadata": {},
   "outputs": [],
   "source": [
    "pagecount_desktop_views = pagecount_desktop_views[['year', 'month', 'count']]"
   ]
  },
  {
   "cell_type": "code",
   "execution_count": 37,
   "metadata": {},
   "outputs": [
    {
     "data": {
      "text/html": [
       "<div>\n",
       "<style scoped>\n",
       "    .dataframe tbody tr th:only-of-type {\n",
       "        vertical-align: middle;\n",
       "    }\n",
       "\n",
       "    .dataframe tbody tr th {\n",
       "        vertical-align: top;\n",
       "    }\n",
       "\n",
       "    .dataframe thead th {\n",
       "        text-align: right;\n",
       "    }\n",
       "</style>\n",
       "<table border=\"1\" class=\"dataframe\">\n",
       "  <thead>\n",
       "    <tr style=\"text-align: right;\">\n",
       "      <th></th>\n",
       "      <th>year</th>\n",
       "      <th>month</th>\n",
       "      <th>count</th>\n",
       "    </tr>\n",
       "  </thead>\n",
       "  <tbody>\n",
       "    <tr>\n",
       "      <th>0</th>\n",
       "      <td>2007</td>\n",
       "      <td>12</td>\n",
       "      <td>2998331524</td>\n",
       "    </tr>\n",
       "    <tr>\n",
       "      <th>1</th>\n",
       "      <td>2008</td>\n",
       "      <td>01</td>\n",
       "      <td>4930902570</td>\n",
       "    </tr>\n",
       "    <tr>\n",
       "      <th>2</th>\n",
       "      <td>2008</td>\n",
       "      <td>02</td>\n",
       "      <td>4818393763</td>\n",
       "    </tr>\n",
       "    <tr>\n",
       "      <th>3</th>\n",
       "      <td>2008</td>\n",
       "      <td>03</td>\n",
       "      <td>4955405809</td>\n",
       "    </tr>\n",
       "    <tr>\n",
       "      <th>4</th>\n",
       "      <td>2008</td>\n",
       "      <td>04</td>\n",
       "      <td>5159162183</td>\n",
       "    </tr>\n",
       "  </tbody>\n",
       "</table>\n",
       "</div>"
      ],
      "text/plain": [
       "   year month       count\n",
       "0  2007    12  2998331524\n",
       "1  2008    01  4930902570\n",
       "2  2008    02  4818393763\n",
       "3  2008    03  4955405809\n",
       "4  2008    04  5159162183"
      ]
     },
     "execution_count": 37,
     "metadata": {},
     "output_type": "execute_result"
    }
   ],
   "source": [
    "pagecount_desktop_views.head()"
   ]
  },
  {
   "cell_type": "code",
   "execution_count": 38,
   "metadata": {},
   "outputs": [],
   "source": [
    "pagecount_mobile_views = pd.DataFrame(pagecount_mobile_data['items'])\n",
    "pagecount_mobile_views['year'] = pagecount_mobile_views.apply(lambda row: row['timestamp'][:4], axis = 1)\n",
    "pagecount_mobile_views['month'] = pagecount_mobile_views.apply(lambda row: row['timestamp'][4:6], axis = 1)"
   ]
  },
  {
   "cell_type": "code",
   "execution_count": 39,
   "metadata": {},
   "outputs": [],
   "source": [
    "pagecount_mobile_views = pagecount_mobile_views[['year', 'month', 'count']]"
   ]
  },
  {
   "cell_type": "code",
   "execution_count": 40,
   "metadata": {},
   "outputs": [
    {
     "data": {
      "text/html": [
       "<div>\n",
       "<style scoped>\n",
       "    .dataframe tbody tr th:only-of-type {\n",
       "        vertical-align: middle;\n",
       "    }\n",
       "\n",
       "    .dataframe tbody tr th {\n",
       "        vertical-align: top;\n",
       "    }\n",
       "\n",
       "    .dataframe thead th {\n",
       "        text-align: right;\n",
       "    }\n",
       "</style>\n",
       "<table border=\"1\" class=\"dataframe\">\n",
       "  <thead>\n",
       "    <tr style=\"text-align: right;\">\n",
       "      <th></th>\n",
       "      <th>year</th>\n",
       "      <th>month</th>\n",
       "      <th>count</th>\n",
       "    </tr>\n",
       "  </thead>\n",
       "  <tbody>\n",
       "    <tr>\n",
       "      <th>0</th>\n",
       "      <td>2014</td>\n",
       "      <td>10</td>\n",
       "      <td>3091546685</td>\n",
       "    </tr>\n",
       "    <tr>\n",
       "      <th>1</th>\n",
       "      <td>2014</td>\n",
       "      <td>11</td>\n",
       "      <td>3027489668</td>\n",
       "    </tr>\n",
       "    <tr>\n",
       "      <th>2</th>\n",
       "      <td>2014</td>\n",
       "      <td>12</td>\n",
       "      <td>3278950021</td>\n",
       "    </tr>\n",
       "    <tr>\n",
       "      <th>3</th>\n",
       "      <td>2015</td>\n",
       "      <td>01</td>\n",
       "      <td>3485302091</td>\n",
       "    </tr>\n",
       "    <tr>\n",
       "      <th>4</th>\n",
       "      <td>2015</td>\n",
       "      <td>02</td>\n",
       "      <td>3091534479</td>\n",
       "    </tr>\n",
       "  </tbody>\n",
       "</table>\n",
       "</div>"
      ],
      "text/plain": [
       "   year month       count\n",
       "0  2014    10  3091546685\n",
       "1  2014    11  3027489668\n",
       "2  2014    12  3278950021\n",
       "3  2015    01  3485302091\n",
       "4  2015    02  3091534479"
      ]
     },
     "execution_count": 40,
     "metadata": {},
     "output_type": "execute_result"
    }
   ],
   "source": [
    "pagecount_mobile_views.head()"
   ]
  },
  {
   "cell_type": "code",
   "execution_count": 41,
   "metadata": {},
   "outputs": [],
   "source": [
    "merged_pagecount_all_views = pd.concat([pagecount_desktop_views, pagecount_mobile_views])"
   ]
  },
  {
   "cell_type": "code",
   "execution_count": 42,
   "metadata": {},
   "outputs": [],
   "source": [
    "pagecount_all_views = merged_pagecount_all_views.groupby(['year', 'month']).agg({\"count\": ['sum']}).reset_index()\n",
    "pagecount_all_views.columns = ['year', 'month', 'count']"
   ]
  },
  {
   "cell_type": "code",
   "execution_count": 43,
   "metadata": {},
   "outputs": [
    {
     "data": {
      "text/html": [
       "<div>\n",
       "<style scoped>\n",
       "    .dataframe tbody tr th:only-of-type {\n",
       "        vertical-align: middle;\n",
       "    }\n",
       "\n",
       "    .dataframe tbody tr th {\n",
       "        vertical-align: top;\n",
       "    }\n",
       "\n",
       "    .dataframe thead th {\n",
       "        text-align: right;\n",
       "    }\n",
       "</style>\n",
       "<table border=\"1\" class=\"dataframe\">\n",
       "  <thead>\n",
       "    <tr style=\"text-align: right;\">\n",
       "      <th></th>\n",
       "      <th>year</th>\n",
       "      <th>month</th>\n",
       "      <th>count</th>\n",
       "    </tr>\n",
       "  </thead>\n",
       "  <tbody>\n",
       "    <tr>\n",
       "      <th>0</th>\n",
       "      <td>2007</td>\n",
       "      <td>12</td>\n",
       "      <td>2998331524</td>\n",
       "    </tr>\n",
       "    <tr>\n",
       "      <th>1</th>\n",
       "      <td>2008</td>\n",
       "      <td>01</td>\n",
       "      <td>4930902570</td>\n",
       "    </tr>\n",
       "    <tr>\n",
       "      <th>2</th>\n",
       "      <td>2008</td>\n",
       "      <td>02</td>\n",
       "      <td>4818393763</td>\n",
       "    </tr>\n",
       "    <tr>\n",
       "      <th>3</th>\n",
       "      <td>2008</td>\n",
       "      <td>03</td>\n",
       "      <td>4955405809</td>\n",
       "    </tr>\n",
       "    <tr>\n",
       "      <th>4</th>\n",
       "      <td>2008</td>\n",
       "      <td>04</td>\n",
       "      <td>5159162183</td>\n",
       "    </tr>\n",
       "  </tbody>\n",
       "</table>\n",
       "</div>"
      ],
      "text/plain": [
       "   year month       count\n",
       "0  2007    12  2998331524\n",
       "1  2008    01  4930902570\n",
       "2  2008    02  4818393763\n",
       "3  2008    03  4955405809\n",
       "4  2008    04  5159162183"
      ]
     },
     "execution_count": 43,
     "metadata": {},
     "output_type": "execute_result"
    }
   ],
   "source": [
    "pagecount_all_views.head()"
   ]
  },
  {
   "cell_type": "markdown",
   "metadata": {},
   "source": [
    "#### Concatenating all the fields to create the final csv file output"
   ]
  },
  {
   "cell_type": "code",
   "execution_count": 44,
   "metadata": {},
   "outputs": [],
   "source": [
    "pagecount_all_views = pagecount_all_views.rename(columns = {'count' : 'pagecount_all_views'})\n",
    "pagecount_desktop_views = pagecount_desktop_views.rename(columns = {'count' : 'pagecount_desktop_views'})\n",
    "pagecount_mobile_views = pagecount_mobile_views.rename(columns = {'count' : 'pagecount_mobile_views'})\n",
    "\n",
    "pageview_all_views = pageview_all_views.rename(columns = {'views' : 'pageview_all_views'})\n",
    "pageview_desktop_views = pageview_desktop_views.rename(columns = {'views' : 'pageview_desktop_views'})\n",
    "pageview_mobile_views = pageview_mobile_views.rename(columns = {'views' : 'pageview_mobile_views'})"
   ]
  },
  {
   "cell_type": "code",
   "execution_count": 45,
   "metadata": {},
   "outputs": [],
   "source": [
    "all_dfs = [pagecount_all_views, pagecount_desktop_views, pagecount_mobile_views, pageview_all_views, pageview_desktop_views,pageview_mobile_views]\n",
    "\n",
    "merged_df = functools.reduce(lambda left, right: pd.merge(left, right, on=['year', 'month'], how = 'outer'), all_dfs)"
   ]
  },
  {
   "cell_type": "code",
   "execution_count": 46,
   "metadata": {},
   "outputs": [],
   "source": [
    "merged_df.pagecount_all_views = merged_df.pagecount_all_views.astype('Int64')\n",
    "merged_df.pagecount_desktop_views = merged_df.pagecount_desktop_views.astype('Int64')\n",
    "merged_df.pagecount_mobile_views = merged_df.pagecount_mobile_views.astype('Int64')\n",
    "merged_df.pageview_all_views = merged_df.pageview_all_views.astype('Int64')\n",
    "merged_df.pageview_desktop_views = merged_df.pageview_desktop_views.astype('Int64')\n",
    "merged_df.pageview_mobile_views = merged_df.pageview_mobile_views.astype('Int64')"
   ]
  },
  {
   "cell_type": "code",
   "execution_count": 47,
   "metadata": {},
   "outputs": [],
   "source": [
    "merged_df.to_csv(os.path.join(csv_output_folder, \"en-wikipedia_traffic_200712-202008.csv\"), index=False)"
   ]
  },
  {
   "cell_type": "markdown",
   "metadata": {},
   "source": [
    "## Step 3: Analyzing the Data"
   ]
  },
  {
   "cell_type": "markdown",
   "metadata": {},
   "source": [
    "#### Creating plot for final analysis  \n",
    "\n",
    "The final plot for analysis is created using the matplotlib library."
   ]
  },
  {
   "cell_type": "code",
   "execution_count": 48,
   "metadata": {},
   "outputs": [],
   "source": [
    "# Creating date field for plotting the x-axis\n",
    "merged_df['date'] = merged_df.apply(lambda r: datetime.datetime(int(r.year), int(r.month), 1), axis=1)\n",
    "merged_df = merged_df.sort_values('date')"
   ]
  },
  {
   "cell_type": "code",
   "execution_count": 49,
   "metadata": {},
   "outputs": [
    {
     "data": {
      "image/png": "[encoded data removed]",
      "text/plain": [
       "<Figure size 1296x576 with 1 Axes>"
      ]
     },
     "metadata": {
      "needs_background": "light"
     },
     "output_type": "display_data"
    }
   ],
   "source": [
    "plt.figure(figsize=(18, 8))\n",
    "\n",
    "plt.plot(merged_df['date'], merged_df['pageview_desktop_views']/1000000,color='g')\n",
    "plt.plot(merged_df['date'], merged_df['pageview_mobile_views']/1000000,color='b')\n",
    "plt.plot(merged_df['date'], merged_df['pageview_all_views']/1000000,color='black')\n",
    "\n",
    "plt.plot(merged_df['date'], merged_df['pagecount_desktop_views']/1000000,color='g',linestyle='--')\n",
    "plt.plot(merged_df['date'], merged_df['pagecount_mobile_views']/1000000,color='b',linestyle='--')\n",
    "plt.plot(merged_df['date'], merged_df['pagecount_all_views']/1000000,color='black',linestyle='--')\n",
    "plt.legend([\"PageView Desktop\",\"PageView Mobile\", \"PageView All\", \"PageCount Desktop\",\"PageCount Mobile\",\"PageCount All\"])\n",
    "plt.title(\"Page Views on English Wikipedia (x1,000,00)\")\n",
    "plt.grid()\n",
    "plt.savefig(\"final_visualization.png\")"
   ]
  }
 ],
 "metadata": {
  "kernelspec": {
   "display_name": "Python 3",
   "language": "python",
   "name": "python3"
  },
  "language_info": {
   "codemirror_mode": {
    "name": "ipython",
    "version": 3
   },
   "file_extension": ".py",
   "mimetype": "text/x-python",
   "name": "python",
   "nbconvert_exporter": "python",
   "pygments_lexer": "ipython3",
   "version": "3.7.4"
  }
 },
 "nbformat": 4,
 "nbformat_minor": 4
}
