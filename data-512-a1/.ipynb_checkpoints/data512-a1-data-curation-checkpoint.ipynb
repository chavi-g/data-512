{
 "cells": [
  {
   "cell_type": "markdown",
   "metadata": {},
   "source": [
    "## Step 1: Gathering the Data"
   ]
  },
  {
   "cell_type": "code",
   "execution_count": 1,
   "metadata": {},
   "outputs": [],
   "source": [
    "import os\n",
    "import shutil\n",
    "import pandas as pd\n",
    "\n",
    "import json\n",
    "import requests"
   ]
  },
  {
   "cell_type": "code",
   "execution_count": 2,
   "metadata": {},
   "outputs": [],
   "source": [
    "endpoint_legacy = 'https://wikimedia.org/api/rest_v1/metrics/legacy/pagecounts/aggregate/{project}/{access-site}/{granularity}/{start}/{end}'\n",
    "\n",
    "endpoint_pageviews = 'https://wikimedia.org/api/rest_v1/metrics/pageviews/aggregate/{project}/{access}/{agent}/{granularity}/{start}/{end}'"
   ]
  },
  {
   "cell_type": "code",
   "execution_count": 3,
   "metadata": {},
   "outputs": [],
   "source": [
    "json_output_folder = \"data/json\"\n",
    "csv_output_folder = \"data/csv\"\n",
    "if os.path.exists(\"data\"):\n",
    "    shutil.rmtree(\"data\")\n",
    "os.mkdir(\"data\")\n",
    "os.mkdir(json_output_folder)\n",
    "os.mkdir(csv_output_folder)"
   ]
  },
  {
   "cell_type": "code",
   "execution_count": 4,
   "metadata": {},
   "outputs": [],
   "source": [
    "# SAMPLE parameters for getting aggregated legacy view data \n",
    "# see: https://wikimedia.org/api/rest_v1/#!/Legacy_data/get_metrics_legacy_pagecounts_aggregate_project_access_site_granularity_start_end\n",
    "example_params_legacy = {\"project\" : \"en.wikipedia.org\",\n",
    "                 \"access-site\" : \"desktop-site\",\n",
    "                 \"granularity\" : \"monthly\",\n",
    "                 \"start\" : \"2008010100\",\n",
    "                # for end use 1st day of month following final month of data\n",
    "                 \"end\" : \"2020100100\"\n",
    "                    }\n",
    "\n",
    "# SAMPLE parameters for getting aggregated current standard pageview data\n",
    "# see: https://wikimedia.org/api/rest_v1/#!/Pageviews_data/get_metrics_pageviews_aggregate_project_access_agent_granularity_start_end\n",
    "example_params_pageviews = {\"project\" : \"en.wikipedia.org\",\n",
    "                    \"access\" : \"desktop\",\n",
    "                    \"agent\" : \"user\",\n",
    "                    \"granularity\" : \"monthly\",\n",
    "                    \"start\" : \"2008010100\",\n",
    "                    # for end use 1st day of month following final month of data\n",
    "                    \"end\" : '2020100100'\n",
    "                        }\n",
    "\n",
    "# Customize these with your own information\n",
    "headers = {\n",
    "    'User-Agent': 'https://github.com/chavi-g',\n",
    "    'From': 'chavig@uw.edu'\n",
    "}\n"
   ]
  },
  {
   "cell_type": "code",
   "execution_count": 5,
   "metadata": {},
   "outputs": [],
   "source": [
    "def get_pagecount_params(access_site, start, end):\n",
    "    params = {\n",
    "                \"project\" : \"en.wikipedia.org\",\n",
    "                \"access-site\" : access_site,\n",
    "                \"granularity\" : \"monthly\",\n",
    "                \"start\" : start,\n",
    "                \"end\" : end\n",
    "           }\n",
    "    return params"
   ]
  },
  {
   "cell_type": "code",
   "execution_count": 6,
   "metadata": {},
   "outputs": [],
   "source": [
    "def get_pageview_params(access, start, end):\n",
    "    params = {\n",
    "                \"project\" : \"en.wikipedia.org\",\n",
    "                \"access\" : access,\n",
    "                \"agent\" : \"user\",\n",
    "                \"granularity\" : \"monthly\",\n",
    "                \"start\" : start,\n",
    "                \"end\" : end\n",
    "           }\n",
    "    return params"
   ]
  },
  {
   "cell_type": "code",
   "execution_count": 7,
   "metadata": {},
   "outputs": [],
   "source": [
    "def api_call(endpoint,parameters):\n",
    "    call = requests.get(endpoint.format(**parameters), headers=headers)\n",
    "    response = call.json()\n",
    "    \n",
    "    return response"
   ]
  },
  {
   "cell_type": "code",
   "execution_count": 8,
   "metadata": {},
   "outputs": [],
   "source": [
    "def get_json_file_path(apiname, accesstype, firstmonth, lastmonth):\n",
    "    filename = \"{0}_{1}_{2}-{3}.json\".format(apiname, accesstype, firstmonth, lastmonth)\n",
    "    return os.path.join(json_output_folder, filename)"
   ]
  },
  {
   "cell_type": "code",
   "execution_count": 9,
   "metadata": {},
   "outputs": [],
   "source": [
    "start, end = \"2008010100\", \"2020100100\"\n",
    "pageview_desktop_file = api_call(endpoint_pageviews, get_pageview_params(\"desktop\", start, end))\n",
    "pageview_mobile_file = api_call(endpoint_pageviews, get_pageview_params(\"mobile-app\", start, end))\n",
    "pageview_web_file = api_call(endpoint_pageviews, get_pageview_params(\"mobile-web\", start, end))"
   ]
  },
  {
   "cell_type": "code",
   "execution_count": 10,
   "metadata": {},
   "outputs": [],
   "source": [
    "pagecount_desktop_file = api_call(endpoint_legacy, get_pagecount_params(\"desktop-site\", start, end))\n",
    "pagecount_mobile_file = api_call(endpoint_legacy, get_pagecount_params(\"mobile-site\", start, end))"
   ]
  },
  {
   "cell_type": "code",
   "execution_count": 13,
   "metadata": {},
   "outputs": [],
   "source": [
    "def write_data_to_json(data, filename):\n",
    "    data_string = json.dumps(data, indent=2)\n",
    "    with open(filename, \"w\") as f:\n",
    "        f.write(data_string)"
   ]
  },
  {
   "cell_type": "code",
   "execution_count": 14,
   "metadata": {},
   "outputs": [
    {
     "data": {
      "text/plain": [
       "'data/json/pageviews_desktop_200801-202010.json'"
      ]
     },
     "execution_count": 14,
     "metadata": {},
     "output_type": "execute_result"
    }
   ],
   "source": [
    "firstmonth = start[:6]\n",
    "endmonth = end[:6]\n",
    "get_json_file_path('pageviews','desktop', firstmonth, endmonth)"
   ]
  },
  {
   "cell_type": "code",
   "execution_count": 15,
   "metadata": {},
   "outputs": [],
   "source": [
    "def get_pageviews_data(access, start, end):\n",
    "    pageview_data = api_call(endpoint_pageviews, get_pageview_params(access, start, end))\n",
    "    firstmonth = start[:6]\n",
    "    endmonth = end[:6]\n",
    "    filename = get_json_file_path('pageviews', access, firstmonth, endmonth)\n",
    "    write_data_to_json(pageview_data, filename)\n",
    "    \n",
    "    return filename"
   ]
  },
  {
   "cell_type": "code",
   "execution_count": 16,
   "metadata": {},
   "outputs": [],
   "source": [
    "def get_pagecounts_data(access_site, start, end):\n",
    "    pagecount_data = api_call(endpoint_legacy, get_pagecount_params(access_site, start, end))\n",
    "    firstmonth = start[:6]\n",
    "    endmonth = end[:6]\n",
    "    filename = get_json_file_path('pagecounts', access_site, firstmonth, endmonth)\n",
    "    write_data_to_json(pagecount_data, filename)\n",
    "    \n",
    "    return filename"
   ]
  },
  {
   "cell_type": "code",
   "execution_count": 21,
   "metadata": {},
   "outputs": [],
   "source": [
    "start, end = \"2008010100\", \"2020100100\"\n",
    "pageview_desktop_file = get_pageviews_data(\"desktop\", start, end)\n",
    "pageview_mobile_app_file = get_pageviews_data(\"mobile-app\", start, end)\n",
    "pageview_mobile_web_file = get_pageviews_data(\"mobile-web\", start, end)"
   ]
  },
  {
   "cell_type": "code",
   "execution_count": 22,
   "metadata": {},
   "outputs": [],
   "source": [
    "pagecount_desktop_file = get_pagecounts_data(\"desktop-site\", start, end)\n",
    "pagecount_mobile_file = get_pagecounts_data(\"mobile-site\", start, end)"
   ]
  },
  {
   "cell_type": "markdown",
   "metadata": {},
   "source": [
    "## Step 2: Processing the Data"
   ]
  },
  {
   "cell_type": "code",
   "execution_count": 24,
   "metadata": {},
   "outputs": [],
   "source": [
    "def read_data_from_json(filename):\n",
    "    data = {}\n",
    "    with open(filename, \"r\") as f:\n",
    "        data = json.loads(f.read())\n",
    "    \n",
    "    return data"
   ]
  },
  {
   "cell_type": "code",
   "execution_count": 25,
   "metadata": {},
   "outputs": [],
   "source": [
    "pageview_desktop_data = read_data_from_json(pageview_desktop_file)\n",
    "pageview_mobile_app_data = read_data_from_json(pageview_mobile_app_file)\n",
    "pageview_mobile_web_data = read_data_from_json(pageview_mobile_web_file)\n",
    "pagecount_desktop_data = read_data_from_json(pagecount_desktop_file)\n",
    "pagecount_mobile_data = read_data_from_json(pagecount_mobile_file)"
   ]
  },
  {
   "cell_type": "code",
   "execution_count": 59,
   "metadata": {},
   "outputs": [],
   "source": [
    "pageview_desktop_views = pd.DataFrame(pageview_desktop_data['items'])\n",
    "pageview_desktop_views['year'] = pageview_desktop_views.apply(lambda row: row['timestamp'][:4], axis = 1)\n",
    "pageview_desktop_views['month'] = pageview_desktop_views.apply(lambda row: row['timestamp'][4:6], axis = 1)"
   ]
  },
  {
   "cell_type": "code",
   "execution_count": 60,
   "metadata": {},
   "outputs": [],
   "source": [
    "pageview_desktop_views = pageview_desktop_views[['year', 'month', 'views']]"
   ]
  },
  {
   "cell_type": "code",
   "execution_count": 61,
   "metadata": {},
   "outputs": [
    {
     "data": {
      "text/html": [
       "<div>\n",
       "<style scoped>\n",
       "    .dataframe tbody tr th:only-of-type {\n",
       "        vertical-align: middle;\n",
       "    }\n",
       "\n",
       "    .dataframe tbody tr th {\n",
       "        vertical-align: top;\n",
       "    }\n",
       "\n",
       "    .dataframe thead th {\n",
       "        text-align: right;\n",
       "    }\n",
       "</style>\n",
       "<table border=\"1\" class=\"dataframe\">\n",
       "  <thead>\n",
       "    <tr style=\"text-align: right;\">\n",
       "      <th></th>\n",
       "      <th>year</th>\n",
       "      <th>month</th>\n",
       "      <th>views</th>\n",
       "    </tr>\n",
       "  </thead>\n",
       "  <tbody>\n",
       "    <tr>\n",
       "      <th>0</th>\n",
       "      <td>2015</td>\n",
       "      <td>07</td>\n",
       "      <td>4376666686</td>\n",
       "    </tr>\n",
       "    <tr>\n",
       "      <th>1</th>\n",
       "      <td>2015</td>\n",
       "      <td>08</td>\n",
       "      <td>4332482183</td>\n",
       "    </tr>\n",
       "    <tr>\n",
       "      <th>2</th>\n",
       "      <td>2015</td>\n",
       "      <td>09</td>\n",
       "      <td>4485491704</td>\n",
       "    </tr>\n",
       "    <tr>\n",
       "      <th>3</th>\n",
       "      <td>2015</td>\n",
       "      <td>10</td>\n",
       "      <td>4477532755</td>\n",
       "    </tr>\n",
       "    <tr>\n",
       "      <th>4</th>\n",
       "      <td>2015</td>\n",
       "      <td>11</td>\n",
       "      <td>4287720220</td>\n",
       "    </tr>\n",
       "    <tr>\n",
       "      <th>...</th>\n",
       "      <td>...</td>\n",
       "      <td>...</td>\n",
       "      <td>...</td>\n",
       "    </tr>\n",
       "    <tr>\n",
       "      <th>58</th>\n",
       "      <td>2020</td>\n",
       "      <td>05</td>\n",
       "      <td>3078093615</td>\n",
       "    </tr>\n",
       "    <tr>\n",
       "      <th>59</th>\n",
       "      <td>2020</td>\n",
       "      <td>06</td>\n",
       "      <td>2721328557</td>\n",
       "    </tr>\n",
       "    <tr>\n",
       "      <th>60</th>\n",
       "      <td>2020</td>\n",
       "      <td>07</td>\n",
       "      <td>2638936132</td>\n",
       "    </tr>\n",
       "    <tr>\n",
       "      <th>61</th>\n",
       "      <td>2020</td>\n",
       "      <td>08</td>\n",
       "      <td>2613058239</td>\n",
       "    </tr>\n",
       "    <tr>\n",
       "      <th>62</th>\n",
       "      <td>2020</td>\n",
       "      <td>09</td>\n",
       "      <td>2661783500</td>\n",
       "    </tr>\n",
       "  </tbody>\n",
       "</table>\n",
       "<p>63 rows × 3 columns</p>\n",
       "</div>"
      ],
      "text/plain": [
       "    year month       views\n",
       "0   2015    07  4376666686\n",
       "1   2015    08  4332482183\n",
       "2   2015    09  4485491704\n",
       "3   2015    10  4477532755\n",
       "4   2015    11  4287720220\n",
       "..   ...   ...         ...\n",
       "58  2020    05  3078093615\n",
       "59  2020    06  2721328557\n",
       "60  2020    07  2638936132\n",
       "61  2020    08  2613058239\n",
       "62  2020    09  2661783500\n",
       "\n",
       "[63 rows x 3 columns]"
      ]
     },
     "execution_count": 61,
     "metadata": {},
     "output_type": "execute_result"
    }
   ],
   "source": [
    "pageview_desktop_views"
   ]
  },
  {
   "cell_type": "code",
   "execution_count": 37,
   "metadata": {},
   "outputs": [],
   "source": [
    "pageview_mobile_app_views = pd.DataFrame(pageview_mobile_app_data['items'])\n",
    "pageview_mobile_app_views['year'] = pageview_mobile_app_views.apply(lambda row: row['timestamp'][:4], axis = 1)\n",
    "pageview_mobile_app_views['month'] = pageview_mobile_app_views.apply(lambda row: row['timestamp'][4:6], axis = 1)"
   ]
  },
  {
   "cell_type": "code",
   "execution_count": 44,
   "metadata": {},
   "outputs": [],
   "source": [
    "pageview_mobile_app_views = pageview_mobile_app_views[['year', 'month', 'views']]"
   ]
  },
  {
   "cell_type": "code",
   "execution_count": 45,
   "metadata": {},
   "outputs": [],
   "source": [
    "pageview_mobile_web_views = pd.DataFrame(pageview_mobile_web_data['items'])\n",
    "pageview_mobile_web_views['year'] = pageview_mobile_web_views.apply(lambda row: row['timestamp'][:4], axis = 1)\n",
    "pageview_mobile_web_views['month'] = pageview_mobile_web_views.apply(lambda row: row['timestamp'][4:6], axis = 1)"
   ]
  },
  {
   "cell_type": "code",
   "execution_count": 46,
   "metadata": {},
   "outputs": [],
   "source": [
    "pageview_mobile_web_views = pageview_mobile_web_views[['year', 'month', 'views']]"
   ]
  },
  {
   "cell_type": "code",
   "execution_count": 51,
   "metadata": {},
   "outputs": [],
   "source": [
    "merged_pageview_mobile_views = pd.merge(pageview_mobile_app_views,pageview_mobile_web_views, on = ['year', 'month'], how = 'outer' )"
   ]
  },
  {
   "cell_type": "code",
   "execution_count": 54,
   "metadata": {},
   "outputs": [],
   "source": [
    "merged_pageview_mobile_views['views'] = merged_pageview_mobile_views.apply(lambda row: row['views_x'] + row['views_y'], axis = 1)"
   ]
  },
  {
   "cell_type": "code",
   "execution_count": 56,
   "metadata": {},
   "outputs": [],
   "source": [
    "pageview_mobile_views = merged_pageview_mobile_views[['year', 'month', 'views']]"
   ]
  },
  {
   "cell_type": "code",
   "execution_count": 62,
   "metadata": {},
   "outputs": [
    {
     "data": {
      "text/html": [
       "<div>\n",
       "<style scoped>\n",
       "    .dataframe tbody tr th:only-of-type {\n",
       "        vertical-align: middle;\n",
       "    }\n",
       "\n",
       "    .dataframe tbody tr th {\n",
       "        vertical-align: top;\n",
       "    }\n",
       "\n",
       "    .dataframe thead th {\n",
       "        text-align: right;\n",
       "    }\n",
       "</style>\n",
       "<table border=\"1\" class=\"dataframe\">\n",
       "  <thead>\n",
       "    <tr style=\"text-align: right;\">\n",
       "      <th></th>\n",
       "      <th>year</th>\n",
       "      <th>month</th>\n",
       "      <th>views</th>\n",
       "    </tr>\n",
       "  </thead>\n",
       "  <tbody>\n",
       "    <tr>\n",
       "      <th>0</th>\n",
       "      <td>2015</td>\n",
       "      <td>07</td>\n",
       "      <td>3288755294</td>\n",
       "    </tr>\n",
       "    <tr>\n",
       "      <th>1</th>\n",
       "      <td>2015</td>\n",
       "      <td>08</td>\n",
       "      <td>3302333038</td>\n",
       "    </tr>\n",
       "    <tr>\n",
       "      <th>2</th>\n",
       "      <td>2015</td>\n",
       "      <td>09</td>\n",
       "      <td>3170203333</td>\n",
       "    </tr>\n",
       "    <tr>\n",
       "      <th>3</th>\n",
       "      <td>2015</td>\n",
       "      <td>10</td>\n",
       "      <td>3268499132</td>\n",
       "    </tr>\n",
       "    <tr>\n",
       "      <th>4</th>\n",
       "      <td>2015</td>\n",
       "      <td>11</td>\n",
       "      <td>3236601070</td>\n",
       "    </tr>\n",
       "    <tr>\n",
       "      <th>...</th>\n",
       "      <td>...</td>\n",
       "      <td>...</td>\n",
       "      <td>...</td>\n",
       "    </tr>\n",
       "    <tr>\n",
       "      <th>58</th>\n",
       "      <td>2020</td>\n",
       "      <td>05</td>\n",
       "      <td>5231700095</td>\n",
       "    </tr>\n",
       "    <tr>\n",
       "      <th>59</th>\n",
       "      <td>2020</td>\n",
       "      <td>06</td>\n",
       "      <td>4573975256</td>\n",
       "    </tr>\n",
       "    <tr>\n",
       "      <th>60</th>\n",
       "      <td>2020</td>\n",
       "      <td>07</td>\n",
       "      <td>4809714465</td>\n",
       "    </tr>\n",
       "    <tr>\n",
       "      <th>61</th>\n",
       "      <td>2020</td>\n",
       "      <td>08</td>\n",
       "      <td>4803308661</td>\n",
       "    </tr>\n",
       "    <tr>\n",
       "      <th>62</th>\n",
       "      <td>2020</td>\n",
       "      <td>09</td>\n",
       "      <td>4492250780</td>\n",
       "    </tr>\n",
       "  </tbody>\n",
       "</table>\n",
       "<p>63 rows × 3 columns</p>\n",
       "</div>"
      ],
      "text/plain": [
       "    year month       views\n",
       "0   2015    07  3288755294\n",
       "1   2015    08  3302333038\n",
       "2   2015    09  3170203333\n",
       "3   2015    10  3268499132\n",
       "4   2015    11  3236601070\n",
       "..   ...   ...         ...\n",
       "58  2020    05  5231700095\n",
       "59  2020    06  4573975256\n",
       "60  2020    07  4809714465\n",
       "61  2020    08  4803308661\n",
       "62  2020    09  4492250780\n",
       "\n",
       "[63 rows x 3 columns]"
      ]
     },
     "execution_count": 62,
     "metadata": {},
     "output_type": "execute_result"
    }
   ],
   "source": [
    "pageview_mobile_views"
   ]
  },
  {
   "cell_type": "code",
   "execution_count": null,
   "metadata": {},
   "outputs": [],
   "source": [
    "pagecount"
   ]
  }
 ],
 "metadata": {
  "kernelspec": {
   "display_name": "Python 3",
   "language": "python",
   "name": "python3"
  },
  "language_info": {
   "codemirror_mode": {
    "name": "ipython",
    "version": 3
   },
   "file_extension": ".py",
   "mimetype": "text/x-python",
   "name": "python",
   "nbconvert_exporter": "python",
   "pygments_lexer": "ipython3",
   "version": "3.7.4"
  }
 },
 "nbformat": 4,
 "nbformat_minor": 4
}
